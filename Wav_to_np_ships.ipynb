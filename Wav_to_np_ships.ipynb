{
 "cells": [
  {
   "cell_type": "code",
   "execution_count": 1,
   "metadata": {
    "executionInfo": {
     "elapsed": 723,
     "status": "ok",
     "timestamp": 1625242542694,
     "user": {
      "displayName": "ali ghorbani",
      "photoUrl": "https://lh3.googleusercontent.com/a-/AOh14Ghd-slK6Xj9Knu05nCC6UBos4CvveHmbLLPzVCXcQ=s64",
      "userId": "15127196920920446102"
     },
     "user_tz": -270
    },
    "id": "JJQk3C7A5K0c"
   },
   "outputs": [],
   "source": [
    "import librosa\n",
    "import numpy as np\n",
    "import pandas as pd\n",
    "from matplotlib import pyplot as plt\n",
    "import gc, h5py\n",
    "from sklearn.model_selection import train_test_split\n",
    "from sklearn.preprocessing import OneHotEncoder, StandardScaler, MinMaxScaler\n",
    "from sklearn.utils.class_weight import compute_class_weight\n",
    "from sklearn.metrics import classification_report\n",
    "from scipy.io import wavfile\n",
    "np.random.seed(7)"
   ]
  },
  {
   "cell_type": "code",
   "execution_count": 12,
   "metadata": {
    "executionInfo": {
     "elapsed": 398,
     "status": "ok",
     "timestamp": 1625242549087,
     "user": {
      "displayName": "ali ghorbani",
      "photoUrl": "https://lh3.googleusercontent.com/a-/AOh14Ghd-slK6Xj9Knu05nCC6UBos4CvveHmbLLPzVCXcQ=s64",
      "userId": "15127196920920446102"
     },
     "user_tz": -270
    },
    "id": "RQFNLp1cNdii"
   },
   "outputs": [],
   "source": [
    "# load labels\n",
    "label_file = pd.read_csv('./shipsEar_AUDIOS/models_label.csv', header=None)"
   ]
  },
  {
   "cell_type": "markdown",
   "metadata": {
    "id": "FuFoDUZG2Z8X"
   },
   "source": [
    "# mel spectrogram method"
   ]
  },
  {
   "cell_type": "markdown",
   "metadata": {
    "id": "uAKeQxbxrmVl"
   },
   "source": [
    "## create dataset"
   ]
  },
  {
   "cell_type": "code",
   "execution_count": 5,
   "metadata": {
    "executionInfo": {
     "elapsed": 393,
     "status": "ok",
     "timestamp": 1625242556287,
     "user": {
      "displayName": "ali ghorbani",
      "photoUrl": "https://lh3.googleusercontent.com/a-/AOh14Ghd-slK6Xj9Knu05nCC6UBos4CvveHmbLLPzVCXcQ=s64",
      "userId": "15127196920920446102"
     },
     "user_tz": -270
    },
    "id": "yLF1F7T9lZNC"
   },
   "outputs": [],
   "source": [
    "def create_melspectrogram(file_path, sampling_rate=52734, min_seconds=9, n_mels=64, hop_length=415, previus_y=[]):\n",
    "  y, _ = librosa.load(file_path, sr=sampling_rate)\n",
    "  y, _ = librosa.effects.trim(y)\n",
    "  print(y.shape)\n",
    "  for item in previus_y:\n",
    "    y = np.concatenate((y, item))\n",
    "  if y.shape[0] < 26367:\n",
    "    return -1, y \n",
    "  frames = librosa.util.frame(y, frame_length=int(sampling_rate/2), hop_length=int(sampling_rate/2*0.2)) # 0.8 overlap\n",
    "  spectrogram = librosa.feature.melspectrogram(frames[:,0], sr=sampling_rate, n_mels=n_mels,\n",
    "                                                  hop_length=hop_length,n_fft=n_mels*20)\n",
    "  mels = np.zeros((frames.shape[1], spectrogram.shape[0], spectrogram.shape[1]))\n",
    "  mels[0, :, :] = spectrogram\n",
    "  for i in range(frames.shape[1]-1):\n",
    "    spectrogram1 = librosa.feature.melspectrogram(frames[:,i+1], sr=sampling_rate, n_mels=n_mels,\n",
    "                                                  hop_length=hop_length,n_fft=n_mels*20)\n",
    "    spectrogram = librosa.power_to_db(spectrogram1)\n",
    "    mels[i+1, :, :] = spectrogram.astype(np.float32)\n",
    "  return mels"
   ]
  },
  {
   "cell_type": "code",
   "execution_count": 14,
   "metadata": {
    "colab": {
     "base_uri": "https://localhost:8080/"
    },
    "executionInfo": {
     "elapsed": 443,
     "status": "ok",
     "timestamp": 1625235737582,
     "user": {
      "displayName": "ali ghorbani",
      "photoUrl": "https://lh3.googleusercontent.com/a-/AOh14Ghd-slK6Xj9Knu05nCC6UBos4CvveHmbLLPzVCXcQ=s64",
      "userId": "15127196920920446102"
     },
     "user_tz": -270
    },
    "id": "3DDo2zqSKt_3",
    "outputId": "0c2a4772-6382-4dba-95af-a4dfc1e16283"
   },
   "outputs": [
    {
     "data": {
      "text/plain": [
       "'10__10_07_13_marDeOnza_Sale.wav'"
      ]
     },
     "execution_count": 14,
     "metadata": {},
     "output_type": "execute_result"
    }
   ],
   "source": [
    "label_file[0][0]"
   ]
  },
  {
   "cell_type": "code",
   "execution_count": null,
   "metadata": {
    "colab": {
     "base_uri": "https://localhost:8080/",
     "height": 472
    },
    "executionInfo": {
     "elapsed": 25640,
     "status": "error",
     "timestamp": 1625242586410,
     "user": {
      "displayName": "ali ghorbani",
      "photoUrl": "https://lh3.googleusercontent.com/a-/AOh14Ghd-slK6Xj9Knu05nCC6UBos4CvveHmbLLPzVCXcQ=s64",
      "userId": "15127196920920446102"
     },
     "user_tz": -270
    },
    "id": "WMYwxntTn47M",
    "outputId": "6fa83761-aed0-4e87-deba-4985c2dd7353"
   },
   "outputs": [
    {
     "name": "stdout",
     "output_type": "stream",
     "text": [
      "(8166492,)\n",
      "(1544, 64, 64)\n",
      "(4325110,)\n",
      "1 (2360, 64, 64)\n",
      "(6402303,)\n",
      "2 (3570, 64, 64)\n",
      "(10940823,)\n",
      "3 (5640, 64, 64)\n",
      "(3164040,)\n",
      "4 (6236, 64, 64)\n",
      "(7526262,)\n",
      "5 (7659, 64, 64)\n",
      "(8607539,)\n",
      "6 (9287, 64, 64)\n",
      "(4054791,)\n",
      "7 (10051, 64, 64)\n",
      "(35995165,)\n",
      "8 (16873, 64, 64)\n",
      "(19747546,)\n",
      "9 (20614, 64, 64)\n",
      "(1593462,)\n",
      "10 (20912, 64, 64)\n",
      "(2304829,)\n",
      "11 (21345, 64, 64)\n",
      "(2828835,)\n",
      "12 (21877, 64, 64)\n",
      "(524654,)\n",
      "13 (21972, 64, 64)\n",
      "(2251809,)\n",
      "14 (22395, 64, 64)\n",
      "(7416895,)\n",
      "15 (23797, 64, 64)\n",
      "(1238495,)\n",
      "16 (24027, 64, 64)\n",
      "(1618488,)\n",
      "17 (24329, 64, 64)\n",
      "(8627243,)\n",
      "18 (25961, 64, 64)\n",
      "(4968053,)\n",
      "19 (26899, 64, 64)\n",
      "(2336252,)\n",
      "20 (27338, 64, 64)\n",
      "(3377713,)\n",
      "21 (27974, 64, 64)\n",
      "(11411526,)\n",
      "22 (30134, 64, 64)\n",
      "(1973090,)\n",
      "23 (30504, 64, 64)\n",
      "(6522975,)\n",
      "24 (31737, 64, 64)\n",
      "(5138868,)\n",
      "25 (32707, 64, 64)\n",
      "(5367098,)\n",
      "26 (33720, 64, 64)\n",
      "(2319116,)\n",
      "27 (34155, 64, 64)\n",
      "(5638341,)\n",
      "28 (35220, 64, 64)\n",
      "(3900097,)\n",
      "29 (35955, 64, 64)\n",
      "(2329834,)\n",
      "30 (36392, 64, 64)\n",
      "(2789958,)\n",
      "31 (36917, 64, 64)\n",
      "(3067493,)\n",
      "32 (37494, 64, 64)\n",
      "(2716922,)\n",
      "33 (38005, 64, 64)\n",
      "(4886076,)\n",
      "34 (38927, 64, 64)\n",
      "(599350,)\n",
      "35 (39036, 64, 64)\n",
      "(16562653,)\n",
      "36 (42173, 64, 64)\n",
      "(4376922,)\n",
      "37 (42999, 64, 64)\n",
      "(8806578,)\n",
      "38 (44665, 64, 64)\n",
      "(3374976,)\n",
      "39 (45301, 64, 64)\n",
      "(5276943,)\n",
      "40 (46297, 64, 64)\n",
      "(6539016,)\n",
      "41 (47533, 64, 64)\n",
      "(8490174,)\n",
      "42 (49139, 64, 64)\n",
      "(3588489,)\n",
      "43 (49815, 64, 64)\n",
      "(9228450,)\n",
      "44 (51561, 64, 64)\n",
      "(2583966,)\n",
      "45 (52047, 64, 64)\n",
      "(1001946,)\n",
      "46 (52233, 64, 64)\n",
      "(12603426,)\n",
      "47 (54619, 64, 64)\n",
      "(13183500,)\n",
      "48 (57115, 64, 64)\n",
      "(15891937,)\n",
      "49 (60124, 64, 64)\n",
      "(18404166,)\n",
      "50 (63610, 64, 64)\n",
      "(7540962,)\n",
      "51 (65036, 64, 64)\n",
      "(16558476,)\n",
      "52 (68172, 64, 64)\n",
      "(10335864,)\n",
      "53 (70128, 64, 64)\n",
      "(7013622,)\n",
      "54 (71454, 64, 64)\n",
      "(8595642,)\n",
      "55 (73080, 64, 64)\n",
      "(8173770,)\n",
      "56 (74626, 64, 64)\n",
      "(13499904,)\n",
      "57 (77182, 64, 64)\n",
      "(15661998,)\n",
      "58 (80148, 64, 64)\n",
      "(21129151,)\n",
      "59 (84151, 64, 64)\n",
      "(3164040,)\n",
      "60 (84747, 64, 64)\n",
      "(6032667,)\n",
      "61 (85887, 64, 64)\n",
      "(7142123,)\n",
      "62 (87237, 64, 64)\n",
      "(6518054,)\n",
      "63 (88469, 64, 64)\n",
      "(7350146,)\n",
      "64 (89858, 64, 64)\n",
      "(7696851,)\n",
      "65 (91313, 64, 64)\n",
      "(2842982,)\n",
      "66 (91848, 64, 64)\n",
      "(9361036,)\n",
      "67 (93619, 64, 64)\n",
      "(4853871,)\n",
      "68 (94535, 64, 64)\n",
      "(9919151,)\n",
      "69 (96412, 64, 64)\n",
      "(5269916,)\n",
      "70 (97407, 64, 64)\n",
      "(4908432,)\n",
      "71 (98333, 64, 64)\n",
      "(3176870,)\n",
      "72 (98931, 64, 64)\n",
      "(6328320,)\n",
      "73 (100127, 64, 64)\n",
      "(6328320,)\n",
      "74 (101323, 64, 64)\n",
      "(6328320,)\n",
      "75 (102519, 64, 64)\n",
      "(6328320,)\n",
      "76 (103715, 64, 64)\n",
      "(4487200,)\n",
      "77 (104561, 64, 64)\n",
      "(5270256,)\n",
      "78 (105556, 64, 64)\n",
      "(5217553,)\n",
      "79 (106541, 64, 64)\n",
      "(4954041,)\n",
      "80 (107476, 64, 64)\n",
      "(4954041,)\n",
      "81 (108411, 64, 64)\n",
      "(3164040,)\n",
      "82 (109007, 64, 64)\n",
      "(4848636,)\n",
      "83 (109922, 64, 64)\n",
      "(1834363,)\n",
      "84 (110265, 64, 64)\n",
      "(3572720,)\n"
     ]
    }
   ],
   "source": [
    "i=0\n",
    "data = create_melspectrogram('./shipsEar_AUDIOS/'+label_file[0][i])\n",
    "print(data.shape)\n",
    "labels = label_file[1][i]*np.ones((len(data),))\n",
    "gc.collect()\n",
    "for i in range(1, len(label_file)):\n",
    "  features = create_melspectrogram('./shipsEar_AUDIOS/'+label_file[0][i])\n",
    "  data = np.append(data, features, axis=0)\n",
    "  labels = np.append(labels, label_file[1][i]*np.ones((len(features),)), axis=0)\n",
    "  gc.collect()\n",
    "  print(i, data.shape)\n",
    "\n",
    "labels = labels.astype('int16')\n",
    "print(data.shape, labels.shape)"
   ]
  },
  {
   "cell_type": "code",
   "execution_count": null,
   "metadata": {
    "executionInfo": {
     "elapsed": 9,
     "status": "aborted",
     "timestamp": 1625242586406,
     "user": {
      "displayName": "ali ghorbani",
      "photoUrl": "https://lh3.googleusercontent.com/a-/AOh14Ghd-slK6Xj9Knu05nCC6UBos4CvveHmbLLPzVCXcQ=s64",
      "userId": "15127196920920446102"
     },
     "user_tz": -270
    },
    "id": "rJbaPNaMLuDv"
   },
   "outputs": [],
   "source": [
    "del features\n",
    "gc.collect()"
   ]
  },
  {
   "cell_type": "code",
   "execution_count": null,
   "metadata": {
    "id": "4_6KTNmKEe9_"
   },
   "outputs": [],
   "source": [
    "hf = h5py.File('./data.h5', 'w')\n",
    "hf.create_dataset('data', data=data)\n",
    "hf.create_dataset('labels', data=labels)\n",
    "hf.close()"
   ]
  },
  {
   "cell_type": "code",
   "execution_count": 16,
   "metadata": {
    "executionInfo": {
     "elapsed": 73937,
     "status": "ok",
     "timestamp": 1625242665029,
     "user": {
      "displayName": "ali ghorbani",
      "photoUrl": "https://lh3.googleusercontent.com/a-/AOh14Ghd-slK6Xj9Knu05nCC6UBos4CvveHmbLLPzVCXcQ=s64",
      "userId": "15127196920920446102"
     },
     "user_tz": -270
    },
    "id": "W-qu4Wg4U5LB"
   },
   "outputs": [],
   "source": [
    "f = h5py.File('./data.h5', \"r\")\n",
    "data = np.array(f['data'])\n",
    "labels = np.array(f['labels'])\n",
    "f.close()"
   ]
  },
  {
   "cell_type": "code",
   "execution_count": 17,
   "metadata": {
    "colab": {
     "base_uri": "https://localhost:8080/"
    },
    "executionInfo": {
     "elapsed": 14,
     "status": "ok",
     "timestamp": 1625242665031,
     "user": {
      "displayName": "ali ghorbani",
      "photoUrl": "https://lh3.googleusercontent.com/a-/AOh14Ghd-slK6Xj9Knu05nCC6UBos4CvveHmbLLPzVCXcQ=s64",
      "userId": "15127196920920446102"
     },
     "user_tz": -270
    },
    "id": "wkMYMBWAVKVu",
    "outputId": "94f1fa49-e9e8-4d51-964d-35029b2cef53"
   },
   "outputs": [
    {
     "data": {
      "text/plain": [
       "(112954, 64, 64)"
      ]
     },
     "execution_count": 17,
     "metadata": {
      "tags": []
     },
     "output_type": "execute_result"
    }
   ],
   "source": [
    "data.shape"
   ]
  },
  {
   "cell_type": "code",
   "execution_count": 19,
   "metadata": {
    "colab": {
     "base_uri": "https://localhost:8080/",
     "height": 303
    },
    "executionInfo": {
     "elapsed": 452,
     "status": "ok",
     "timestamp": 1625242673989,
     "user": {
      "displayName": "ali ghorbani",
      "photoUrl": "https://lh3.googleusercontent.com/a-/AOh14Ghd-slK6Xj9Knu05nCC6UBos4CvveHmbLLPzVCXcQ=s64",
      "userId": "15127196920920446102"
     },
     "user_tz": -270
    },
    "id": "ZO1LNfwxoZgo",
    "outputId": "93e4cc07-2be7-4ba9-8c66-186cea31ef72"
   },
   "outputs": [
    {
     "data": {
      "image/png": "[encoded data removed]",
      "text/plain": [
       "<Figure size 432x288 with 1 Axes>"
      ]
     },
     "metadata": {
      "needs_background": "light",
      "tags": []
     },
     "output_type": "display_data"
    }
   ],
   "source": [
    "target_count = pd.DataFrame(labels).value_counts()\n",
    "target_count.plot(kind='bar', title='Count (target)')\n",
    "plt.show()"
   ]
  },
  {
   "cell_type": "code",
   "execution_count": 20,
   "metadata": {
    "colab": {
     "base_uri": "https://localhost:8080/"
    },
    "executionInfo": {
     "elapsed": 15014,
     "status": "ok",
     "timestamp": 1625242690618,
     "user": {
      "displayName": "ali ghorbani",
      "photoUrl": "https://lh3.googleusercontent.com/a-/AOh14Ghd-slK6Xj9Knu05nCC6UBos4CvveHmbLLPzVCXcQ=s64",
      "userId": "15127196920920446102"
     },
     "user_tz": -270
    },
    "id": "GcVjgToEDBhx",
    "outputId": "6e7251de-213e-405a-e274-ab9e23a0f19a"
   },
   "outputs": [
    {
     "name": "stdout",
     "output_type": "stream",
     "text": [
      "normalization passed\n"
     ]
    }
   ],
   "source": [
    "train_x, test_x, train_y, test_y = train_test_split(data, labels, test_size=0.2, shuffle=True, random_state=42)\n",
    "del data, labels\n",
    "# compute class weights\n",
    "unq_lab = np.unique(train_y)\n",
    "class_weights = compute_class_weight('balanced', unq_lab, train_y.tolist())\n",
    "weights = dict()\n",
    "for i in range(unq_lab.shape[0]):\n",
    "    weights[i] = class_weights[i]\n",
    "\n",
    "enc = OneHotEncoder(sparse=False)\n",
    "train_y_encoded = enc.fit_transform(train_y.reshape(-1,1))\n",
    "test_y_encoded = enc.transform(test_y.reshape(-1,1))\n",
    "\n",
    "sc = MinMaxScaler()\n",
    "for i in range(train_x.shape[0]):\n",
    "  sc.partial_fit(train_x[i])\n",
    "for i in range(train_x.shape[0]):\n",
    "  train_x[i] = sc.transform(train_x[i])\n",
    "for i in range(test_x.shape[0]):\n",
    "  test_x[i] = sc.transform(test_x[i])\n",
    "print('normalization passed')"
   ]
  },
  {
   "cell_type": "code",
   "execution_count": 21,
   "metadata": {
    "colab": {
     "base_uri": "https://localhost:8080/"
    },
    "executionInfo": {
     "elapsed": 5,
     "status": "ok",
     "timestamp": 1625242690618,
     "user": {
      "displayName": "ali ghorbani",
      "photoUrl": "https://lh3.googleusercontent.com/a-/AOh14Ghd-slK6Xj9Knu05nCC6UBos4CvveHmbLLPzVCXcQ=s64",
      "userId": "15127196920920446102"
     },
     "user_tz": -270
    },
    "id": "ad-aDrjBMhxl",
    "outputId": "74d2aa84-1656-42b3-ab05-c06e1529dfab"
   },
   "outputs": [
    {
     "data": {
      "text/plain": [
       "5626"
      ]
     },
     "execution_count": 21,
     "metadata": {
      "tags": []
     },
     "output_type": "execute_result"
    }
   ],
   "source": [
    "gc.collect()"
   ]
  },
  {
   "cell_type": "markdown",
   "metadata": {
    "id": "RYEsa2v7rrh1"
   },
   "source": [
    "## training and evaluation"
   ]
  },
  {
   "cell_type": "code",
   "execution_count": 22,
   "metadata": {
    "executionInfo": {
     "elapsed": 2663,
     "status": "ok",
     "timestamp": 1625242698145,
     "user": {
      "displayName": "ali ghorbani",
      "photoUrl": "https://lh3.googleusercontent.com/a-/AOh14Ghd-slK6Xj9Knu05nCC6UBos4CvveHmbLLPzVCXcQ=s64",
      "userId": "15127196920920446102"
     },
     "user_tz": -270
    },
    "id": "591Ny4MIbY-m"
   },
   "outputs": [],
   "source": [
    "from keras.layers import Input, Dense, Conv2D, MaxPooling2D, Flatten, Dropout\n",
    "from keras.models import Model\n",
    "from keras import optimizers\n",
    "from tensorflow.keras import backend as K\n",
    "from tensorflow.keras.models import load_model"
   ]
  },
  {
   "cell_type": "code",
   "execution_count": 23,
   "metadata": {
    "executionInfo": {
     "elapsed": 15,
     "status": "ok",
     "timestamp": 1625242698147,
     "user": {
      "displayName": "ali ghorbani",
      "photoUrl": "https://lh3.googleusercontent.com/a-/AOh14Ghd-slK6Xj9Knu05nCC6UBos4CvveHmbLLPzVCXcQ=s64",
      "userId": "15127196920920446102"
     },
     "user_tz": -270
    },
    "id": "Z3YgIA23gFa0"
   },
   "outputs": [],
   "source": [
    "def f1_metric(y_true, y_pred):\n",
    "    def recall(y_true, y_pred):\n",
    "        true_positives = K.sum(K.round(K.clip(y_true * y_pred, 0, 1)))\n",
    "        possible_positives = K.sum(K.round(K.clip(y_true, 0, 1)))\n",
    "        recall = true_positives / (possible_positives + K.epsilon())\n",
    "        return recall\n",
    "\n",
    "    def precision(y_true, y_pred):\n",
    "        true_positives = K.sum(K.round(K.clip(y_true * y_pred, 0, 1)))\n",
    "        predicted_positives = K.sum(K.round(K.clip(y_pred, 0, 1)))\n",
    "        precision = true_positives / (predicted_positives + K.epsilon())\n",
    "        return precision\n",
    "\n",
    "    precision = precision(y_true, y_pred)\n",
    "    recall = recall(y_true, y_pred)\n",
    "\n",
    "    return 2 * ((precision * recall) / (precision + recall + K.epsilon()))"
   ]
  },
  {
   "cell_type": "code",
   "execution_count": 24,
   "metadata": {
    "executionInfo": {
     "elapsed": 3,
     "status": "ok",
     "timestamp": 1625242699524,
     "user": {
      "displayName": "ali ghorbani",
      "photoUrl": "https://lh3.googleusercontent.com/a-/AOh14Ghd-slK6Xj9Knu05nCC6UBos4CvveHmbLLPzVCXcQ=s64",
      "userId": "15127196920920446102"
     },
     "user_tz": -270
    },
    "id": "IOlxU_IjrxvT"
   },
   "outputs": [],
   "source": [
    "num_class = 5\n",
    "batch_size=128\n",
    "epochs = 30"
   ]
  },
  {
   "cell_type": "code",
   "execution_count": 25,
   "metadata": {
    "colab": {
     "base_uri": "https://localhost:8080/"
    },
    "executionInfo": {
     "elapsed": 6213,
     "status": "ok",
     "timestamp": 1625242707257,
     "user": {
      "displayName": "ali ghorbani",
      "photoUrl": "https://lh3.googleusercontent.com/a-/AOh14Ghd-slK6Xj9Knu05nCC6UBos4CvveHmbLLPzVCXcQ=s64",
      "userId": "15127196920920446102"
     },
     "user_tz": -270
    },
    "id": "k_vuZkmpbY7-",
    "outputId": "96470fdb-bd65-4170-aada-ab5db40df831"
   },
   "outputs": [
    {
     "name": "stderr",
     "output_type": "stream",
     "text": [
      "/usr/local/lib/python3.7/dist-packages/tensorflow/python/keras/optimizer_v2/optimizer_v2.py:375: UserWarning: The `lr` argument is deprecated, use `learning_rate` instead.\n",
      "  \"The `lr` argument is deprecated, use `learning_rate` instead.\")\n"
     ]
    }
   ],
   "source": [
    "inp = Input((64,64,1))\n",
    "l = Conv2D(128, kernel_size=(7,7), strides=(2,2), padding='same')(inp)\n",
    "l = MaxPooling2D(pool_size=2)(l)\n",
    "l = Conv2D(128, kernel_size=(5,5), strides=(2,2), padding='same')(l)\n",
    "l = MaxPooling2D(pool_size=2)(l)\n",
    "l = Conv2D(128, kernel_size=(3,3), strides=(2,2), padding='same')(l)\n",
    "l = Conv2D(128, kernel_size=(3,3), strides=(2,2), padding='same')(l)\n",
    "l = Flatten()(l)\n",
    "l = Dropout(0.3)(l)\n",
    "l = Dense(512, activation='relu')(l)\n",
    "out = Dense(num_class, activation='softmax')(l)\n",
    "model = Model(inp, out)\n",
    "\n",
    "model.compile(optimizer= optimizers.Adam(lr=0.0001),\n",
    "             loss='categorical_crossentropy',\n",
    "             metrics=['accuracy', f1_metric])"
   ]
  },
  {
   "cell_type": "code",
   "execution_count": 26,
   "metadata": {
    "colab": {
     "base_uri": "https://localhost:8080/"
    },
    "executionInfo": {
     "elapsed": 418,
     "status": "ok",
     "timestamp": 1625242709498,
     "user": {
      "displayName": "ali ghorbani",
      "photoUrl": "https://lh3.googleusercontent.com/a-/AOh14Ghd-slK6Xj9Knu05nCC6UBos4CvveHmbLLPzVCXcQ=s64",
      "userId": "15127196920920446102"
     },
     "user_tz": -270
    },
    "id": "_wFm0Ktn_ObL",
    "outputId": "1ad9432a-5c00-46f0-b2fd-1bb1911ae2eb"
   },
   "outputs": [
    {
     "data": {
      "text/plain": [
       "((90363, 64, 64, 1), (22591, 64, 64, 1))"
      ]
     },
     "execution_count": 26,
     "metadata": {
      "tags": []
     },
     "output_type": "execute_result"
    }
   ],
   "source": [
    "train_x = np.expand_dims(train_x, axis=3)\n",
    "test_x = np.expand_dims(test_x, axis=3)\n",
    "train_x.shape, test_x.shape"
   ]
  },
  {
   "cell_type": "code",
   "execution_count": 27,
   "metadata": {
    "colab": {
     "base_uri": "https://localhost:8080/"
    },
    "executionInfo": {
     "elapsed": 635590,
     "status": "ok",
     "timestamp": 1625243346461,
     "user": {
      "displayName": "ali ghorbani",
      "photoUrl": "https://lh3.googleusercontent.com/a-/AOh14Ghd-slK6Xj9Knu05nCC6UBos4CvveHmbLLPzVCXcQ=s64",
      "userId": "15127196920920446102"
     },
     "user_tz": -270
    },
    "id": "R2V3FH5Mbyx2",
    "outputId": "cbd8500f-2a8c-4f55-c99a-d8d910f00669"
   },
   "outputs": [
    {
     "name": "stdout",
     "output_type": "stream",
     "text": [
      "Epoch 1/30\n",
      "706/706 [==============================] - 63s 27ms/step - loss: 1.3856 - accuracy: 0.4066 - f1_metric: 0.1047 - val_loss: 0.9265 - val_accuracy: 0.5973 - val_f1_metric: 0.5651\n",
      "Epoch 2/30\n",
      "706/706 [==============================] - 18s 26ms/step - loss: 0.9091 - accuracy: 0.6097 - f1_metric: 0.5624 - val_loss: 0.7556 - val_accuracy: 0.6711 - val_f1_metric: 0.6516\n",
      "Epoch 3/30\n",
      "706/706 [==============================] - 18s 26ms/step - loss: 0.7501 - accuracy: 0.6806 - f1_metric: 0.6485 - val_loss: 0.6021 - val_accuracy: 0.7504 - val_f1_metric: 0.7249\n",
      "Epoch 4/30\n",
      "706/706 [==============================] - 19s 27ms/step - loss: 0.6233 - accuracy: 0.7336 - f1_metric: 0.7169 - val_loss: 0.5222 - val_accuracy: 0.7927 - val_f1_metric: 0.7790\n",
      "Epoch 5/30\n",
      "706/706 [==============================] - 19s 27ms/step - loss: 0.5402 - accuracy: 0.7778 - f1_metric: 0.7666 - val_loss: 0.4854 - val_accuracy: 0.8114 - val_f1_metric: 0.8047\n",
      "Epoch 6/30\n",
      "706/706 [==============================] - 19s 27ms/step - loss: 0.4751 - accuracy: 0.8101 - f1_metric: 0.8049 - val_loss: 0.3864 - val_accuracy: 0.8575 - val_f1_metric: 0.8540\n",
      "Epoch 7/30\n",
      "706/706 [==============================] - 19s 27ms/step - loss: 0.4177 - accuracy: 0.8359 - f1_metric: 0.8336 - val_loss: 0.3396 - val_accuracy: 0.8724 - val_f1_metric: 0.8713\n",
      "Epoch 8/30\n",
      "706/706 [==============================] - 19s 27ms/step - loss: 0.3836 - accuracy: 0.8524 - f1_metric: 0.8503 - val_loss: 0.3082 - val_accuracy: 0.8873 - val_f1_metric: 0.8858\n",
      "Epoch 9/30\n",
      "706/706 [==============================] - 19s 27ms/step - loss: 0.3419 - accuracy: 0.8691 - f1_metric: 0.8680 - val_loss: 0.2807 - val_accuracy: 0.8935 - val_f1_metric: 0.8933\n",
      "Epoch 10/30\n",
      "706/706 [==============================] - 19s 27ms/step - loss: 0.3095 - accuracy: 0.8840 - f1_metric: 0.8831 - val_loss: 0.2475 - val_accuracy: 0.9081 - val_f1_metric: 0.9062\n",
      "Epoch 11/30\n",
      "706/706 [==============================] - 19s 27ms/step - loss: 0.2750 - accuracy: 0.8995 - f1_metric: 0.8988 - val_loss: 0.2276 - val_accuracy: 0.9158 - val_f1_metric: 0.9154\n",
      "Epoch 12/30\n",
      "706/706 [==============================] - 19s 27ms/step - loss: 0.2522 - accuracy: 0.9064 - f1_metric: 0.9059 - val_loss: 0.1950 - val_accuracy: 0.9280 - val_f1_metric: 0.9271\n",
      "Epoch 13/30\n",
      "706/706 [==============================] - 19s 27ms/step - loss: 0.2270 - accuracy: 0.9181 - f1_metric: 0.9176 - val_loss: 0.1677 - val_accuracy: 0.9383 - val_f1_metric: 0.9384\n",
      "Epoch 14/30\n",
      "706/706 [==============================] - 19s 27ms/step - loss: 0.2095 - accuracy: 0.9243 - f1_metric: 0.9243 - val_loss: 0.1566 - val_accuracy: 0.9426 - val_f1_metric: 0.9419\n",
      "Epoch 15/30\n",
      "706/706 [==============================] - 19s 27ms/step - loss: 0.1898 - accuracy: 0.9317 - f1_metric: 0.9317 - val_loss: 0.1283 - val_accuracy: 0.9551 - val_f1_metric: 0.9550\n",
      "Epoch 16/30\n",
      "706/706 [==============================] - 19s 27ms/step - loss: 0.1627 - accuracy: 0.9425 - f1_metric: 0.9427 - val_loss: 0.1148 - val_accuracy: 0.9610 - val_f1_metric: 0.9605\n",
      "Epoch 17/30\n",
      "706/706 [==============================] - 19s 27ms/step - loss: 0.1453 - accuracy: 0.9495 - f1_metric: 0.9494 - val_loss: 0.1060 - val_accuracy: 0.9629 - val_f1_metric: 0.9624\n",
      "Epoch 18/30\n",
      "706/706 [==============================] - 19s 27ms/step - loss: 0.1367 - accuracy: 0.9520 - f1_metric: 0.9520 - val_loss: 0.0952 - val_accuracy: 0.9672 - val_f1_metric: 0.9673\n",
      "Epoch 19/30\n",
      "706/706 [==============================] - 19s 27ms/step - loss: 0.1212 - accuracy: 0.9583 - f1_metric: 0.9581 - val_loss: 0.0727 - val_accuracy: 0.9765 - val_f1_metric: 0.9766\n",
      "Epoch 20/30\n",
      "706/706 [==============================] - 19s 27ms/step - loss: 0.1039 - accuracy: 0.9639 - f1_metric: 0.9640 - val_loss: 0.0803 - val_accuracy: 0.9738 - val_f1_metric: 0.9741\n",
      "Epoch 21/30\n",
      "706/706 [==============================] - 19s 27ms/step - loss: 0.1015 - accuracy: 0.9645 - f1_metric: 0.9646 - val_loss: 0.0767 - val_accuracy: 0.9733 - val_f1_metric: 0.9734\n",
      "Epoch 22/30\n",
      "706/706 [==============================] - 19s 27ms/step - loss: 0.0888 - accuracy: 0.9694 - f1_metric: 0.9695 - val_loss: 0.0574 - val_accuracy: 0.9812 - val_f1_metric: 0.9815\n",
      "Epoch 23/30\n",
      "706/706 [==============================] - 19s 27ms/step - loss: 0.0827 - accuracy: 0.9728 - f1_metric: 0.9726 - val_loss: 0.0497 - val_accuracy: 0.9839 - val_f1_metric: 0.9838\n",
      "Epoch 24/30\n",
      "706/706 [==============================] - 19s 27ms/step - loss: 0.0724 - accuracy: 0.9754 - f1_metric: 0.9755 - val_loss: 0.0416 - val_accuracy: 0.9874 - val_f1_metric: 0.9875\n",
      "Epoch 25/30\n",
      "706/706 [==============================] - 19s 27ms/step - loss: 0.0674 - accuracy: 0.9776 - f1_metric: 0.9774 - val_loss: 0.0389 - val_accuracy: 0.9879 - val_f1_metric: 0.9880\n",
      "Epoch 26/30\n",
      "706/706 [==============================] - 19s 27ms/step - loss: 0.0578 - accuracy: 0.9808 - f1_metric: 0.9809 - val_loss: 0.0448 - val_accuracy: 0.9845 - val_f1_metric: 0.9845\n",
      "Epoch 27/30\n",
      "706/706 [==============================] - 19s 27ms/step - loss: 0.0642 - accuracy: 0.9786 - f1_metric: 0.9787 - val_loss: 0.0351 - val_accuracy: 0.9887 - val_f1_metric: 0.9887\n",
      "Epoch 28/30\n",
      "706/706 [==============================] - 19s 27ms/step - loss: 0.0586 - accuracy: 0.9804 - f1_metric: 0.9804 - val_loss: 0.0313 - val_accuracy: 0.9891 - val_f1_metric: 0.9892\n",
      "Epoch 29/30\n",
      "706/706 [==============================] - 19s 27ms/step - loss: 0.0484 - accuracy: 0.9844 - f1_metric: 0.9845 - val_loss: 0.0414 - val_accuracy: 0.9866 - val_f1_metric: 0.9867\n",
      "Epoch 30/30\n",
      "706/706 [==============================] - 19s 27ms/step - loss: 0.0446 - accuracy: 0.9853 - f1_metric: 0.9852 - val_loss: 0.0262 - val_accuracy: 0.9920 - val_f1_metric: 0.9921\n"
     ]
    }
   ],
   "source": [
    "history = model.fit(train_x, train_y_encoded, epochs=epochs, batch_size=batch_size,\n",
    "                    shuffle=True, validation_data=(test_x, test_y_encoded))"
   ]
  },
  {
   "cell_type": "code",
   "execution_count": 29,
   "metadata": {
    "executionInfo": {
     "elapsed": 935,
     "status": "ok",
     "timestamp": 1625243385860,
     "user": {
      "displayName": "ali ghorbani",
      "photoUrl": "https://lh3.googleusercontent.com/a-/AOh14Ghd-slK6Xj9Knu05nCC6UBos4CvveHmbLLPzVCXcQ=s64",
      "userId": "15127196920920446102"
     },
     "user_tz": -270
    },
    "id": "ZqlEwZVlC_tg"
   },
   "outputs": [],
   "source": [
    "model.save('./best_model.h5')\n",
    "#model = load_model('./best_model.h5')"
   ]
  },
  {
   "cell_type": "code",
   "execution_count": 28,
   "metadata": {
    "colab": {
     "base_uri": "https://localhost:8080/"
    },
    "executionInfo": {
     "elapsed": 2187,
     "status": "ok",
     "timestamp": 1625243360240,
     "user": {
      "displayName": "ali ghorbani",
      "photoUrl": "https://lh3.googleusercontent.com/a-/AOh14Ghd-slK6Xj9Knu05nCC6UBos4CvveHmbLLPzVCXcQ=s64",
      "userId": "15127196920920446102"
     },
     "user_tz": -270
    },
    "id": "Bs0au2kedMtU",
    "outputId": "510e18c0-bd7b-412f-d9da-e42015889603"
   },
   "outputs": [
    {
     "name": "stdout",
     "output_type": "stream",
     "text": [
      "Classification Report\n",
      "              precision    recall  f1-score   support\n",
      "\n",
      "           0     0.9891    0.9872    0.9881      3505\n",
      "           1     0.9731    0.9909    0.9819      3061\n",
      "           2     0.9967    0.9898    0.9933      8556\n",
      "           3     0.9969    0.9973    0.9971      4898\n",
      "           4     0.9942    0.9973    0.9957      2571\n",
      "\n",
      "    accuracy                         0.9920     22591\n",
      "   macro avg     0.9900    0.9925    0.9912     22591\n",
      "weighted avg     0.9921    0.9920    0.9920     22591\n",
      "\n"
     ]
    }
   ],
   "source": [
    "pred = np.argmax(model.predict(test_x), axis=1)\n",
    "test_yy = np.argmax(test_y_encoded, axis=1)\n",
    "print('Classification Report')\n",
    "print(classification_report(test_yy, pred, digits=4))"
   ]
  },
  {
   "cell_type": "code",
   "execution_count": 30,
   "metadata": {
    "colab": {
     "base_uri": "https://localhost:8080/"
    },
    "executionInfo": {
     "elapsed": 584,
     "status": "ok",
     "timestamp": 1625243396578,
     "user": {
      "displayName": "ali ghorbani",
      "photoUrl": "https://lh3.googleusercontent.com/a-/AOh14Ghd-slK6Xj9Knu05nCC6UBos4CvveHmbLLPzVCXcQ=s64",
      "userId": "15127196920920446102"
     },
     "user_tz": -270
    },
    "id": "5K9WGOPdp-7R",
    "outputId": "c4595518-77fe-4b93-8c79-ddf7cfc00474"
   },
   "outputs": [
    {
     "name": "stdout",
     "output_type": "stream",
     "text": [
      "dict_keys(['loss', 'accuracy', 'f1_metric', 'val_loss', 'val_accuracy', 'val_f1_metric'])\n"
     ]
    }
   ],
   "source": [
    "print(history.history.keys())"
   ]
  },
  {
   "cell_type": "code",
   "execution_count": 31,
   "metadata": {
    "colab": {
     "base_uri": "https://localhost:8080/",
     "height": 295
    },
    "executionInfo": {
     "elapsed": 16,
     "status": "ok",
     "timestamp": 1625243397102,
     "user": {
      "displayName": "ali ghorbani",
      "photoUrl": "https://lh3.googleusercontent.com/a-/AOh14Ghd-slK6Xj9Knu05nCC6UBos4CvveHmbLLPzVCXcQ=s64",
      "userId": "15127196920920446102"
     },
     "user_tz": -270
    },
    "id": "3gfHBxHbpwQj",
    "outputId": "f1b87525-5f8f-4f8a-acdf-ed8e53b0ce97"
   },
   "outputs": [
    {
     "data": {
      "image/png": "[encoded data removed]",
      "text/plain": [
       "<Figure size 432x288 with 1 Axes>"
      ]
     },
     "metadata": {
      "needs_background": "light",
      "tags": []
     },
     "output_type": "display_data"
    }
   ],
   "source": [
    "plt.plot(history.history['accuracy'])\n",
    "plt.plot(history.history['val_accuracy'])\n",
    "plt.title('model accuracy')\n",
    "plt.ylabel('accuracy')\n",
    "plt.xlabel('epoch')\n",
    "plt.legend(['train', 'test'], loc='upper left')\n",
    "plt.show()"
   ]
  },
  {
   "cell_type": "code",
   "execution_count": 32,
   "metadata": {
    "colab": {
     "base_uri": "https://localhost:8080/",
     "height": 295
    },
    "executionInfo": {
     "elapsed": 478,
     "status": "ok",
     "timestamp": 1625243401851,
     "user": {
      "displayName": "ali ghorbani",
      "photoUrl": "https://lh3.googleusercontent.com/a-/AOh14Ghd-slK6Xj9Knu05nCC6UBos4CvveHmbLLPzVCXcQ=s64",
      "userId": "15127196920920446102"
     },
     "user_tz": -270
    },
    "id": "jLgJvF9zp7jW",
    "outputId": "e3cb9b3e-85d1-4180-f82b-81f4db181ffe"
   },
   "outputs": [
    {
     "data": {
      "image/png": "[encoded data removed]",
      "text/plain": [
       "<Figure size 432x288 with 1 Axes>"
      ]
     },
     "metadata": {
      "needs_background": "light",
      "tags": []
     },
     "output_type": "display_data"
    }
   ],
   "source": [
    "plt.plot(history.history['loss'])\n",
    "plt.plot(history.history['val_loss'])\n",
    "plt.title('model loss')\n",
    "plt.ylabel('loss')\n",
    "plt.xlabel('epoch')\n",
    "plt.legend(['train', 'test'], loc='upper left')\n",
    "plt.show()"
   ]
  },
  {
   "cell_type": "code",
   "execution_count": 33,
   "metadata": {
    "executionInfo": {
     "elapsed": 8,
     "status": "ok",
     "timestamp": 1625243403505,
     "user": {
      "displayName": "ali ghorbani",
      "photoUrl": "https://lh3.googleusercontent.com/a-/AOh14Ghd-slK6Xj9Knu05nCC6UBos4CvveHmbLLPzVCXcQ=s64",
      "userId": "15127196920920446102"
     },
     "user_tz": -270
    },
    "id": "Q9SquEiRqosW"
   },
   "outputs": [],
   "source": [
    "from sklearn.metrics import accuracy_score"
   ]
  },
  {
   "cell_type": "code",
   "execution_count": 34,
   "metadata": {
    "colab": {
     "base_uri": "https://localhost:8080/"
    },
    "executionInfo": {
     "elapsed": 4,
     "status": "ok",
     "timestamp": 1625243405174,
     "user": {
      "displayName": "ali ghorbani",
      "photoUrl": "https://lh3.googleusercontent.com/a-/AOh14Ghd-slK6Xj9Knu05nCC6UBos4CvveHmbLLPzVCXcQ=s64",
      "userId": "15127196920920446102"
     },
     "user_tz": -270
    },
    "id": "_Ans_ingp7oI",
    "outputId": "fe2cb1e0-9a50-40b1-d96b-38146ef72633"
   },
   "outputs": [
    {
     "name": "stdout",
     "output_type": "stream",
     "text": [
      "0.9920322252224337\n"
     ]
    }
   ],
   "source": [
    "print(accuracy_score(test_yy, pred))"
   ]
  },
  {
   "cell_type": "code",
   "execution_count": 35,
   "metadata": {
    "executionInfo": {
     "elapsed": 388,
     "status": "ok",
     "timestamp": 1625243408094,
     "user": {
      "displayName": "ali ghorbani",
      "photoUrl": "https://lh3.googleusercontent.com/a-/AOh14Ghd-slK6Xj9Knu05nCC6UBos4CvveHmbLLPzVCXcQ=s64",
      "userId": "15127196920920446102"
     },
     "user_tz": -270
    },
    "id": "KixJt9fFpwWz"
   },
   "outputs": [],
   "source": [
    "pd.DataFrame(test_yy).to_csv('./test_y.csv')"
   ]
  },
  {
   "cell_type": "markdown",
   "metadata": {
    "id": "9ajMQwV44-1h"
   },
   "source": []
  },
  {
   "cell_type": "code",
   "execution_count": 36,
   "metadata": {
    "executionInfo": {
     "elapsed": 420,
     "status": "ok",
     "timestamp": 1625243414781,
     "user": {
      "displayName": "ali ghorbani",
      "photoUrl": "https://lh3.googleusercontent.com/a-/AOh14Ghd-slK6Xj9Knu05nCC6UBos4CvveHmbLLPzVCXcQ=s64",
      "userId": "15127196920920446102"
     },
     "user_tz": -270
    },
    "id": "84zDTDIkpwby"
   },
   "outputs": [],
   "source": [
    "pd.DataFrame(pred).to_csv('./y_pred.csv')"
   ]
  },
  {
   "cell_type": "code",
   "execution_count": 38,
   "metadata": {
    "executionInfo": {
     "elapsed": 626,
     "status": "ok",
     "timestamp": 1625244001496,
     "user": {
      "displayName": "ali ghorbani",
      "photoUrl": "https://lh3.googleusercontent.com/a-/AOh14Ghd-slK6Xj9Knu05nCC6UBos4CvveHmbLLPzVCXcQ=s64",
      "userId": "15127196920920446102"
     },
     "user_tz": -270
    },
    "id": "IgCNJ7t5raHU"
   },
   "outputs": [],
   "source": [
    "from sklearn.metrics import confusion_matrix"
   ]
  },
  {
   "cell_type": "code",
   "execution_count": 39,
   "metadata": {
    "colab": {
     "base_uri": "https://localhost:8080/"
    },
    "executionInfo": {
     "elapsed": 5,
     "status": "ok",
     "timestamp": 1625244003108,
     "user": {
      "displayName": "ali ghorbani",
      "photoUrl": "https://lh3.googleusercontent.com/a-/AOh14Ghd-slK6Xj9Knu05nCC6UBos4CvveHmbLLPzVCXcQ=s64",
      "userId": "15127196920920446102"
     },
     "user_tz": -270
    },
    "id": "4YM8_yvwr8UP",
    "outputId": "47e8d989-4f9c-40b8-808f-51a91f0e9789"
   },
   "outputs": [
    {
     "data": {
      "text/plain": [
       "array([[3460,   34,   10,    1,    0],\n",
       "       [   5, 3033,   14,    0,    9],\n",
       "       [  22,   48, 8469,   11,    6],\n",
       "       [  11,    0,    2, 4885,    0],\n",
       "       [   0,    2,    2,    3, 2564]])"
      ]
     },
     "execution_count": 39,
     "metadata": {
      "tags": []
     },
     "output_type": "execute_result"
    }
   ],
   "source": [
    "confusion_matrix(test_yy, pred)"
   ]
  }
 ],
 "metadata": {
  "accelerator": "GPU",
  "colab": {
   "collapsed_sections": [
    "FuFoDUZG2Z8X",
    "uAKeQxbxrmVl",
    "RYEsa2v7rrh1",
    "i6cKmFNx2lUs"
   ],
   "name": "Wav_to_np.ipynb",
   "provenance": []
  },
  "kernelspec": {
   "display_name": "Python 3",
   "language": "python",
   "name": "python3"
  },
  "language_info": {
   "codemirror_mode": {
    "name": "ipython",
    "version": 3
   },
   "file_extension": ".py",
   "mimetype": "text/x-python",
   "name": "python",
   "nbconvert_exporter": "python",
   "pygments_lexer": "ipython3",
   "version": "3.7.6"
  }
 },
 "nbformat": 4,
 "nbformat_minor": 1
}
